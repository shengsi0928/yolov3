{
 "cells": [
  {
   "cell_type": "code",
   "execution_count": 2,
   "metadata": {},
   "outputs": [
    {
     "data": {
      "text/plain": [
       "Parameter containing:\n",
       "tensor([[[[-0.1955,  0.0864,  0.2031],\n",
       "          [ 0.1845,  0.0532,  0.1964],\n",
       "          [ 0.1335,  0.0604,  0.0494]],\n",
       "\n",
       "         [[-0.0306,  0.1886, -0.0314],\n",
       "          [ 0.1298, -0.1965,  0.0956],\n",
       "          [-0.0287,  0.0510, -0.2162]]],\n",
       "\n",
       "\n",
       "        [[[ 0.0250,  0.1474, -0.1636],\n",
       "          [-0.2235, -0.0138,  0.0160],\n",
       "          [-0.1567, -0.0023,  0.1060]],\n",
       "\n",
       "         [[ 0.1163,  0.0952, -0.0933],\n",
       "          [ 0.1127,  0.0129,  0.0797],\n",
       "          [ 0.1988, -0.1251,  0.2023]]]], requires_grad=True)"
      ]
     },
     "execution_count": 2,
     "metadata": {},
     "output_type": "execute_result"
    }
   ],
   "source": [
    ">>> import torch\n",
    ">>> from torch import nn\n",
    ">>> layer = nn.Conv2d(2, 2, kernel_size=3, stride=1, padding=0)\n",
    ">>> layer.weight"
   ]
  }
 ],
 "metadata": {
  "kernelspec": {
   "display_name": "Python 3.8.3 64-bit",
   "language": "python",
   "name": "python38364bit9936fa3708d344f489c0c5da93f7e354"
  },
  "language_info": {
   "codemirror_mode": {
    "name": "ipython",
    "version": 3
   },
   "file_extension": ".py",
   "mimetype": "text/x-python",
   "name": "python",
   "nbconvert_exporter": "python",
   "pygments_lexer": "ipython3",
   "version": "3.8.3"
  }
 },
 "nbformat": 4,
 "nbformat_minor": 4
}
